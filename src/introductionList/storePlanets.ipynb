{
 "cells": [
  {
   "cell_type": "markdown",
   "source": [
    "# Exercise: Use lists to store planet names\n",
    "Lists allow you to store multiple values in a single variable. In this notebook you'll create a project to display information about the planets.\n",
    "\n",
    "This exercise is broken into a series of steps. For each step you will be presented with the goal for the step, followed by an empty cell. Enter your Python into the cell and run it. The solution for each step will follow each cell.\n",
    "\n",
    "Add all planets to a list\n",
    "First, create a variable named planets. Add the eight planets (without Pluto) to the list. The planets are:"
   ],
   "metadata": {
    "collapsed": false
   }
  },
  {
   "cell_type": "code",
   "execution_count": 6,
   "outputs": [
    {
     "name": "stdout",
     "output_type": "stream",
     "text": [
      "['Mercury', 'Venus', 'Earth', 'Mars', 'Jupiter', 'Saturn', 'Uranus', 'Neptune']\n",
      "There are:  8  planets\n",
      "Actually, there are:  9 planets\n",
      "Pluto  is the last planet\n"
     ]
    }
   ],
   "source": [
    "planets = [\n",
    "    \"Mercury\",\n",
    "    \"Venus\",\n",
    "    \"Earth\",\n",
    "    \"Mars\",\n",
    "    \"Jupiter\",\n",
    "    \"Saturn\",\n",
    "    \"Uranus\",\n",
    "    \"Neptune\"\n",
    "]\n",
    "\n",
    "\n",
    "print(planets)\n",
    "\n",
    "# Display the number of planets\n",
    "# Next, display the total number of planets by using len and print.\n",
    "print(\"There are: \", len(planets), \" planets\")\n",
    "\n",
    "#Add a planet to the list\n",
    "#Finally, add Pluto to the list that you created. Then display both the number of planets and the last planet in the list.\n",
    "\n",
    "planets.append(\"Pluto\")\n",
    "\n",
    "print(\"Actually, there are: \", len(planets), \"planets\")\n",
    "\n",
    "print(planets[-1], \" is the last planet\")\n",
    "\n"
   ],
   "metadata": {
    "collapsed": false
   }
  },
  {
   "cell_type": "code",
   "execution_count": null,
   "outputs": [],
   "source": [],
   "metadata": {
    "collapsed": false,
    "pycharm": {
     "is_executing": true
    }
   }
  },
  {
   "cell_type": "code",
   "execution_count": 3,
   "outputs": [],
   "source": [],
   "metadata": {
    "collapsed": false
   }
  }
 ],
 "metadata": {
  "kernelspec": {
   "display_name": "Python 3",
   "language": "python",
   "name": "python3"
  },
  "language_info": {
   "codemirror_mode": {
    "name": "ipython",
    "version": 2
   },
   "file_extension": ".py",
   "mimetype": "text/x-python",
   "name": "python",
   "nbconvert_exporter": "python",
   "pygments_lexer": "ipython2",
   "version": "2.7.6"
  }
 },
 "nbformat": 4,
 "nbformat_minor": 0
}
