{
 "cells": [
  {
   "cell_type": "markdown",
   "source": [
    "# List data manipulation\n",
    "\n",
    "You may have to work with different parts of a list. For example, suppose you have a list with rainfall amounts for several months. To successfully analyze this type of data, you may need to look for rainfall in the fall or over a three-month period. You may also want to order the list from most to least amount of precipitation.Python provides strong support for working with list data. This support includes slicer (examining only one part) and sorting.\n"
   ],
   "metadata": {
    "collapsed": false
   }
  },
  {
   "cell_type": "markdown",
   "source": [
    "# List Segmentation\n",
    "\n",
    "You can retrieve a part of a list by using a slicer. A slicer uses square brackets, but instead of a single element, it has the start and end indices. When using a slicer, a list is created that starts at the starting index and ends before (and does not include) the ending index.\n",
    "\n",
    "The list of planets has eight items. Earth is third on the list. To display the planets before Earth, use a slicer to get the elements that start with 0 and end with 2:"
   ],
   "metadata": {
    "collapsed": false
   }
  },
  {
   "cell_type": "code",
   "execution_count": 21,
   "outputs": [
    {
     "name": "stdout",
     "output_type": "stream",
     "text": [
      "['Mercury', 'Venus']\n",
      "['Jupiter', 'Saturn', 'Uranus', 'Neptune']\n",
      "['Jupiter', 'Saturn', 'Uranus', 'Neptune']\n"
     ]
    }
   ],
   "source": [
    "planets = [\n",
    "    \"Mercury\",\n",
    "    \"Venus\",\n",
    "    \"earth\"\n",
    "    \"Mars\",\n",
    "    \"Jupiter\",\n",
    "    \"Saturn\",\n",
    "    \"Uranus\",\n",
    "    \"Neptune\"\n",
    "]\n",
    "\n",
    "planets_before_earth = planets[0:2]\n",
    "print(planets_before_earth)\n",
    "\n",
    "planet_after_earth = planets[3:8]\n",
    "print(planet_after_earth)\n",
    "\n",
    "planet_after_earth = planets[3:]\n",
    "print(planet_after_earth)"
   ],
   "metadata": {
    "collapsed": false
   }
  },
  {
   "cell_type": "markdown",
   "source": [
    "# combination of lists\n",
    "\n",
    "You've seen how you can use slicers to split lists, but what about joining them back together?To join two lists, you must use the other operator (+) with two lists to return a new one.There are 79 known moons of Jupiter. The four largest are Io, Europa, Ganymede, and Callisto. These moons are called the Galilean moons, since Galileo Galilei discovered them with his telescope in 1610. The Amalthea group is closer to Jupiter than the Galilean group. It consists of the moons Metis, Adrastea, Amalthea and Thebe.Create two lists. Fill in the first list with the four Amalthean moons and the second list with the four Galilean moons. Join them using + to create a list:"
   ],
   "metadata": {
    "collapsed": false
   }
  },
  {
   "cell_type": "code",
   "execution_count": 23,
   "outputs": [
    {
     "name": "stdout",
     "output_type": "stream",
     "text": [
      "The regular satellite moons of Jupiter are ['Metis', 'Adrastea', 'Amalthea', 'Thebe', 'Io', 'Europa', 'Ganymede', 'Callisto']\n"
     ]
    }
   ],
   "source": [
    "amalthea_group = [\n",
    "    \"Metis\",\n",
    "    \"Adrastea\",\n",
    "    \"Amalthea\",\n",
    "    \"Thebe\"\n",
    "]\n",
    "\n",
    "galilean_moon = [\n",
    "    \"Io\",\n",
    "    \"Europa\",\n",
    "    \"Ganymede\",\n",
    "    \"Callisto\"\n",
    "]\n",
    "\n",
    "regular_satellite_moons = amalthea_group + galilean_moon\n",
    "print(\"The regular satellite moons of Jupiter are\", regular_satellite_moons)"
   ],
   "metadata": {
    "collapsed": false
   }
  },
  {
   "cell_type": "markdown",
   "source": [
    "# list ordering\n",
    "\n",
    "To sort a list, use the list's .sort() method. Python will sort a list of strings in alphabetical order and a list of numbers in numerical order:"
   ],
   "metadata": {
    "collapsed": false
   }
  },
  {
   "cell_type": "code",
   "execution_count": 24,
   "outputs": [
    {
     "name": "stdout",
     "output_type": "stream",
     "text": [
      "The regular satellite moons of Jupiter are ['Adrastea', 'Amalthea', 'Callisto', 'Europa', 'Ganymede', 'Io', 'Metis', 'Thebe']\n"
     ]
    }
   ],
   "source": [
    "regular_satellite_moons.sort()\n",
    "print(\"The regular satellite moons of Jupiter are\", regular_satellite_moons)"
   ],
   "metadata": {
    "collapsed": false
   }
  },
  {
   "cell_type": "markdown",
   "source": [
    "#To sort a list in reverse order,\n",
    "call .sort(reverse=True) on the list:"
   ],
   "metadata": {
    "collapsed": false
   }
  },
  {
   "cell_type": "code",
   "execution_count": 26,
   "outputs": [
    {
     "name": "stdout",
     "output_type": "stream",
     "text": [
      "The regular satellite moons of Jupiter are ['Thebe', 'Metis', 'Io', 'Ganymede', 'Europa', 'Callisto', 'Amalthea', 'Adrastea']\n"
     ]
    }
   ],
   "source": [
    "regular_satellite_moons.sort(reverse=True)\n",
    "\n",
    "print(\"The regular satellite moons of Jupiter are\", regular_satellite_moons)"
   ],
   "metadata": {
    "collapsed": false
   }
  },
  {
   "cell_type": "markdown",
   "source": [
    "# Use slices to retrieve portions of a list\n",
    "You might need to work different sections of a list. In this notebook, you will create a project to display planets closer to and farther away from the sun than a planet that the user enters.\n",
    "\n",
    "This exercise is broken into a series of steps. For each step you will be presented with the goal for the step, followed by an empty cell. Enter your Python into the cell and run it. The solution for each step will follow each cell.\n",
    "\n",
    "Create the list of planets\n",
    "First, create a variable named planets. Add the eight planets (without Pluto) to the list. The planets are:\n",
    "\n",
    "Mercury\n",
    "Venus\n",
    "Earth\n",
    "Mars\n",
    "Jupiter\n",
    "Saturn\n",
    "Uranus\n",
    "Neptune"
   ],
   "metadata": {
    "collapsed": false
   }
  },
  {
   "cell_type": "code",
   "execution_count": 43,
   "outputs": [
    {
     "name": "stdout",
     "output_type": "stream",
     "text": [
      "Here are the planets closer than: Uranus\n",
      "['Mercury', 'Venus', 'Earth', 'Mars', 'Jupiter', 'Saturn']\n",
      "Here are the planets further than: Uranus\n",
      "['Neptune']\n"
     ]
    }
   ],
   "source": [
    "planets =[\n",
    "    \"Mercury\",\n",
    "    \"Venus\",\n",
    "    \"Earth\",\n",
    "    \"Mars\",\n",
    "    \"Jupiter\",\n",
    "    \"Saturn\",\n",
    "    \"Uranus\",\n",
    "    \"Neptune\"\n",
    "]\n",
    "\n",
    "user_planet = input(\"Please enter the name of the planet ( with a capital letter to star)\")\n",
    "\n",
    "planet_index = planets.index(user_planet)\n",
    "\n",
    "print(\"Here are the planets closer than: \" + user_planet)\n",
    "print(planets[0:planet_index])\n",
    "\n",
    "print(\"Here are the planets further than: \" + user_planet)\n",
    "print(planets[planet_index + 1:])\n"
   ],
   "metadata": {
    "collapsed": false
   }
  },
  {
   "cell_type": "markdown",
   "source": [
    "# Prompt the user for the reference planet\n",
    "\n",
    "Next you will add the code to prompt the user for the name of a planet. You will do this by using input. Because strings are case sensitive in Python, ask the user to use a capital letter to start the name of the planet."
   ],
   "metadata": {
    "collapsed": false
   }
  },
  {
   "cell_type": "markdown",
   "source": [
    "# Find the location of the selected planet\n",
    "\n",
    "Now it's time to determine which planets are closer than the one that the user entered. To do this, you need to find where he planet is in the list. You can use the index method to perform this operation. Add the code to find the index of the planet, and store it in a variable named planet_index."
   ],
   "metadata": {
    "collapsed": false
   }
  },
  {
   "cell_type": "markdown",
   "source": [
    "# Display planets closer to the sun\n",
    "With the index determined, you can now add the code to display planets closer to the sun than the one selected. Use the slicing abilities of a list to display all planets up to the one selected."
   ],
   "metadata": {
    "collapsed": false
   }
  },
  {
   "cell_type": "markdown",
   "source": [
    "\n",
    "# Display planets further\n",
    "You can use the same index to display planets farther from the sun. However, remember that the starting index is included when you're using a slice. As a result, you'll have to add 1 to the value. Add the code to display the planets farther from the sun."
   ],
   "metadata": {
    "collapsed": false
   }
  },
  {
   "cell_type": "markdown",
   "source": [
    "Summary\n",
    "\n",
    "We wanted to work with a collection of data about planets. Our app needed the ability to determine where items were in relation to each other and display the results. This capability is created using a list. Python lists are an important tool when working with data. You've seen how to create, segment, join, and sort lists. You'll put these skills to use in almost every Python application you create.In this module, you've learned how to:Identify when to use a list.Create a list.Access a given element of a list using indices.Insert elements into the list. end of a list. Sort and segment a list."
   ],
   "metadata": {
    "collapsed": false
   }
  },
  {
   "cell_type": "code",
   "execution_count": 41,
   "outputs": [],
   "source": [],
   "metadata": {
    "collapsed": false
   }
  },
  {
   "cell_type": "code",
   "execution_count": null,
   "outputs": [],
   "source": [],
   "metadata": {
    "collapsed": false
   }
  }
 ],
 "metadata": {
  "kernelspec": {
   "display_name": "Python 3",
   "language": "python",
   "name": "python3"
  },
  "language_info": {
   "codemirror_mode": {
    "name": "ipython",
    "version": 2
   },
   "file_extension": ".py",
   "mimetype": "text/x-python",
   "name": "python",
   "nbconvert_exporter": "python",
   "pygments_lexer": "ipython2",
   "version": "2.7.6"
  }
 },
 "nbformat": 4,
 "nbformat_minor": 0
}
