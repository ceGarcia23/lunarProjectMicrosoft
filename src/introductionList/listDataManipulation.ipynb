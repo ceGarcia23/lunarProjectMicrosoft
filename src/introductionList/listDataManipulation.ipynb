{
 "cells": [
  {
   "cell_type": "markdown",
   "source": [
    "# List data manipulation\n",
    "\n",
    "You may have to work with different parts of a list. For example, suppose you have a list with rainfall amounts for several months. To successfully analyze this type of data, you may need to look for rainfall in the fall or over a three-month period. You may also want to order the list from most to least amount of precipitation.Python provides strong support for working with list data. This support includes slicer (examining only one part) and sorting.\n"
   ],
   "metadata": {
    "collapsed": false
   }
  },
  {
   "cell_type": "markdown",
   "source": [
    "# List Segmentation\n",
    "\n",
    "You can retrieve a part of a list by using a slicer. A slicer uses square brackets, but instead of a single element, it has the start and end indices. When using a slicer, a list is created that starts at the starting index and ends before (and does not include) the ending index.\n",
    "\n",
    "The list of planets has eight items. Earth is third on the list. To display the planets before Earth, use a slicer to get the elements that start with 0 and end with 2:"
   ],
   "metadata": {
    "collapsed": false
   }
  },
  {
   "cell_type": "code",
   "execution_count": 21,
   "outputs": [
    {
     "name": "stdout",
     "output_type": "stream",
     "text": [
      "['Mercury', 'Venus']\n",
      "['Jupiter', 'Saturn', 'Uranus', 'Neptune']\n",
      "['Jupiter', 'Saturn', 'Uranus', 'Neptune']\n"
     ]
    }
   ],
   "source": [
    "planets = [\n",
    "    \"Mercury\",\n",
    "    \"Venus\",\n",
    "    \"earth\"\n",
    "    \"Mars\",\n",
    "    \"Jupiter\",\n",
    "    \"Saturn\",\n",
    "    \"Uranus\",\n",
    "    \"Neptune\"\n",
    "]\n",
    "\n",
    "planets_before_earth = planets[0:2]\n",
    "print(planets_before_earth)\n",
    "\n",
    "planet_after_earth = planets[3:8]\n",
    "print(planet_after_earth)\n",
    "\n",
    "planet_after_earth = planets[3:]\n",
    "print(planet_after_earth)"
   ],
   "metadata": {
    "collapsed": false
   }
  },
  {
   "cell_type": "markdown",
   "source": [
    "# combination of lists\n",
    "\n",
    "You've seen how you can use slicers to split lists, but what about joining them back together?To join two lists, you must use the other operator (+) with two lists to return a new one.There are 79 known moons of Jupiter. The four largest are Io, Europa, Ganymede, and Callisto. These moons are called the Galilean moons, since Galileo Galilei discovered them with his telescope in 1610. The Amalthea group is closer to Jupiter than the Galilean group. It consists of the moons Metis, Adrastea, Amalthea and Thebe.Create two lists. Fill in the first list with the four Amalthean moons and the second list with the four Galilean moons. Join them using + to create a list:"
   ],
   "metadata": {
    "collapsed": false
   }
  },
  {
   "cell_type": "code",
   "execution_count": 23,
   "outputs": [
    {
     "name": "stdout",
     "output_type": "stream",
     "text": [
      "The regular satellite moons of Jupiter are ['Metis', 'Adrastea', 'Amalthea', 'Thebe', 'Io', 'Europa', 'Ganymede', 'Callisto']\n"
     ]
    }
   ],
   "source": [
    "amalthea_group = [\n",
    "    \"Metis\",\n",
    "    \"Adrastea\",\n",
    "    \"Amalthea\",\n",
    "    \"Thebe\"\n",
    "]\n",
    "\n",
    "galilean_moon = [\n",
    "    \"Io\",\n",
    "    \"Europa\",\n",
    "    \"Ganymede\",\n",
    "    \"Callisto\"\n",
    "]\n",
    "\n",
    "regular_satellite_moons = amalthea_group + galilean_moon\n",
    "print(\"The regular satellite moons of Jupiter are\", regular_satellite_moons)"
   ],
   "metadata": {
    "collapsed": false
   }
  },
  {
   "cell_type": "markdown",
   "source": [
    "# list ordering\n",
    "\n",
    "To sort a list, use the list's .sort() method. Python will sort a list of strings in alphabetical order and a list of numbers in numerical order:"
   ],
   "metadata": {
    "collapsed": false
   }
  },
  {
   "cell_type": "code",
   "execution_count": 24,
   "outputs": [
    {
     "name": "stdout",
     "output_type": "stream",
     "text": [
      "The regular satellite moons of Jupiter are ['Adrastea', 'Amalthea', 'Callisto', 'Europa', 'Ganymede', 'Io', 'Metis', 'Thebe']\n"
     ]
    }
   ],
   "source": [
    "regular_satellite_moons.sort()\n",
    "print(\"The regular satellite moons of Jupiter are\", regular_satellite_moons)"
   ],
   "metadata": {
    "collapsed": false
   }
  },
  {
   "cell_type": "code",
   "execution_count": null,
   "outputs": [],
   "source": [
    "#"
   ],
   "metadata": {
    "collapsed": false
   }
  }
 ],
 "metadata": {
  "kernelspec": {
   "display_name": "Python 3",
   "language": "python",
   "name": "python3"
  },
  "language_info": {
   "codemirror_mode": {
    "name": "ipython",
    "version": 2
   },
   "file_extension": ".py",
   "mimetype": "text/x-python",
   "name": "python",
   "nbconvert_exporter": "python",
   "pygments_lexer": "ipython2",
   "version": "2.7.6"
  }
 },
 "nbformat": 4,
 "nbformat_minor": 0
}
