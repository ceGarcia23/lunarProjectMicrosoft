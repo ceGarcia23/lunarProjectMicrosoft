{
 "cells": [
  {
   "cell_type": "markdown",
   "source": [
    "# Create a list"
   ],
   "metadata": {
    "collapsed": false
   }
  },
  {
   "cell_type": "code",
   "execution_count": 39,
   "metadata": {
    "collapsed": true
   },
   "outputs": [
    {
     "name": "stdout",
     "output_type": "stream",
     "text": [
      "['Mercury', 'Venus', 'Earth', 'Mars', 'Jupiter', 'Saturn', 'Uranus', 'Neptune']\n"
     ]
    }
   ],
   "source": [
    "planets = [\n",
    "    \"Mercury\",\n",
    "    \"Venus\",\n",
    "    \"Earth\",\n",
    "    \"Mars\",\n",
    "    \"Jupiter\",\n",
    "    \"Saturn\",\n",
    "    \"Uranus\",\n",
    "    \"Neptune\"\n",
    "]\n",
    "\n",
    "print(planets)"
   ]
  },
  {
   "cell_type": "markdown",
   "source": [
    "# Accessing list elements by index"
   ],
   "metadata": {
    "collapsed": false
   }
  },
  {
   "cell_type": "markdown",
   "source": [
    "You can access any element of a list by enclosing the index in square brackets [] after the name of the list variable. Indices start at 0, so in the following code, planets[0] is the first item in the planets list:"
   ],
   "metadata": {
    "collapsed": false
   }
  },
  {
   "cell_type": "code",
   "execution_count": 40,
   "outputs": [
    {
     "name": "stdout",
     "output_type": "stream",
     "text": [
      "the first planet is: Mercury\n"
     ]
    }
   ],
   "source": [
    "print(\"the first planet is:\", planets[0])"
   ],
   "metadata": {
    "collapsed": false
   }
  },
  {
   "cell_type": "code",
   "execution_count": 41,
   "outputs": [
    {
     "name": "stdout",
     "output_type": "stream",
     "text": [
      "the first planet is: Venus\n"
     ]
    }
   ],
   "source": [
    "print(\"the first planet is:\", planets[1])"
   ],
   "metadata": {
    "collapsed": false
   }
  },
  {
   "cell_type": "code",
   "execution_count": 42,
   "outputs": [
    {
     "name": "stdout",
     "output_type": "stream",
     "text": [
      "the first planet is: Earth\n"
     ]
    }
   ],
   "source": [
    "print(\"the first planet is:\", planets[2])"
   ],
   "metadata": {
    "collapsed": false
   }
  },
  {
   "cell_type": "markdown",
   "source": [
    "You can also modify values in a list using an index. To do this, assign a new value, the same way you would assign a variable value. For example, you could change the name of Mars in the list to use its alias:"
   ],
   "metadata": {
    "collapsed": false
   }
  },
  {
   "cell_type": "code",
   "execution_count": 43,
   "outputs": [
    {
     "name": "stdout",
     "output_type": "stream",
     "text": [
      "Mars is also known as: Red planet\n"
     ]
    }
   ],
   "source": [
    "planets[3] = \"Red planet\"\n",
    "print(\"Mars is also known as:\", planets[3])\n"
   ],
   "metadata": {
    "collapsed": false
   }
  },
  {
   "cell_type": "markdown",
   "source": [
    "# Determining the length of a list"
   ],
   "metadata": {
    "collapsed": false
   }
  },
  {
   "cell_type": "markdown",
   "source": [
    "Python lists are dynamic: you can add and remove items after you create them.\n",
    "\n",
    "To add an element to a list, use the .append(value) method.For example, the following code adds the string \"Pluto\" to the end of the planets list:"
   ],
   "metadata": {
    "collapsed": false
   }
  },
  {
   "cell_type": "code",
   "execution_count": 44,
   "outputs": [
    {
     "name": "stdout",
     "output_type": "stream",
     "text": [
      "there are actually 9 planets in the solar system.\n"
     ]
    }
   ],
   "source": [
    "planets.append(\"Pluto\")\n",
    "number_planets = len(planets)\n",
    "print(\"there are actually\", number_planets, \"planets in the solar system.\")"
   ],
   "metadata": {
    "collapsed": false
   }
  },
  {
   "cell_type": "markdown",
   "source": [
    "# Delete values from lists"
   ],
   "metadata": {
    "collapsed": false
   }
  },
  {
   "cell_type": "code",
   "execution_count": 45,
   "outputs": [
    {
     "name": "stdout",
     "output_type": "stream",
     "text": [
      "no, there are definitely 8 planet in the solar system\n"
     ]
    }
   ],
   "source": [
    "planets.pop() # goodbye, Pluto\n",
    "number_planets = len(planets)\n",
    "print(\"no, there are definitely\", number_planets, \"planet in the solar system\")"
   ],
   "metadata": {
    "collapsed": false
   }
  },
  {
   "cell_type": "markdown",
   "source": [
    "# Using negative indces"
   ],
   "metadata": {
    "collapsed": false
   }
  },
  {
   "cell_type": "code",
   "execution_count": 46,
   "outputs": [
    {
     "name": "stdout",
     "output_type": "stream",
     "text": [
      " the first planet is:  Mercury\n"
     ]
    }
   ],
   "source": [
    "print(\" the first planet is: \", planets[0])\n"
   ],
   "metadata": {
    "collapsed": false
   }
  },
  {
   "cell_type": "code",
   "execution_count": 47,
   "outputs": [
    {
     "name": "stdout",
     "output_type": "stream",
     "text": [
      "The last planet is:  Neptune\n"
     ]
    }
   ],
   "source": [
    "print(\"The last planet is: \", planets[-1])"
   ],
   "metadata": {
    "collapsed": false
   }
  },
  {
   "cell_type": "markdown",
   "source": [
    "# Search for a values in a list"
   ],
   "metadata": {
    "collapsed": false
   }
  },
  {
   "cell_type": "markdown",
   "source": [
    "Para determinar dónde se almacena un valor en una lista, use el método index de la lista. Este método busca el valor y devuelve el índice de ese elemento en la lista. Si no encuentra ninguna coincidencia, devuelve -1.\n",
    "\n",
    "En el ejemplo siguiente se muestra el uso de \"Jupiter\" como el valor del índice:"
   ],
   "metadata": {
    "collapsed": false
   }
  },
  {
   "cell_type": "code",
   "execution_count": 48,
   "outputs": [
    {
     "name": "stdout",
     "output_type": "stream",
     "text": [
      "Jupiter is the  5 planet from the sun\n"
     ]
    }
   ],
   "source": [
    "jupiter_index = planets.index(\"Jupiter\")\n",
    "print(\"Jupiter is the \", jupiter_index + 1, \"planet from the sun\")"
   ],
   "metadata": {
    "collapsed": false
   }
  },
  {
   "cell_type": "code",
   "execution_count": null,
   "outputs": [],
   "source": [],
   "metadata": {
    "collapsed": false
   }
  }
 ],
 "metadata": {
  "kernelspec": {
   "display_name": "Python 3",
   "language": "python",
   "name": "python3"
  },
  "language_info": {
   "codemirror_mode": {
    "name": "ipython",
    "version": 2
   },
   "file_extension": ".py",
   "mimetype": "text/x-python",
   "name": "python",
   "nbconvert_exporter": "python",
   "pygments_lexer": "ipython2",
   "version": "2.7.6"
  }
 },
 "nbformat": 4,
 "nbformat_minor": 0
}
