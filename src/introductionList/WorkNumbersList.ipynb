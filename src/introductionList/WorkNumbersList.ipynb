{
 "cells": [
  {
   "cell_type": "markdown",
   "source": [
    "# Work with numbers in lists\n",
    "\n",
    "So far, you have been using planet names in a list. You may be wondering if you work with other types of data, such as numbers.\n",
    "\n",
    "Did you know that gravity on other planets is stronger or weaker depending on the mass or size of the planet? Gravity is often measured in G, where gravity on Earth is 1 and other planets are measured relative to Earth.\n",
    "\n",
    "Gravity on the Moon is 0.166 G, which is why astronauts can jump so high on the Moon. Gravity on Neptune is 1.12 G, so jumping is more difficult. Even great athletes would have a hard time jumping more than 2 meters on Neptune."
   ],
   "metadata": {
    "collapsed": false
   }
  },
  {
   "cell_type": "markdown",
   "source": [
    "# Storing numbers in lists\n",
    "\n",
    "To store numbers with decimals in Python, you must use the float type. To create a float value, write the number to the decimal place and assign it to a variable:"
   ],
   "metadata": {
    "collapsed": false
   }
  },
  {
   "cell_type": "code",
   "execution_count": 2,
   "outputs": [],
   "source": [
    "gravity_earth = 1.0\n",
    "gravity_moon = 0.166\n",
    "\n",
    "#The following code creates a list showing the forces of the eight planets in the solar system, in G\n",
    "\n",
    "gravity_planets = [\n",
    "    0.378,\n",
    "    0.907,\n",
    "    1,\n",
    "    0.377,\n",
    "    0.916,\n",
    "    0.889,\n",
    "    1.12\n",
    "]"
   ],
   "metadata": {
    "collapsed": false
   }
  },
  {
   "cell_type": "markdown",
   "source": [
    "In this list, gravity_planets[0] is the gravity on Mercury (0.378 G), gravity_on_planets[1] is the gravity on Venus (0.907 G), and so on.\n",
    "\n",
    "On Earth, a double-decker bus weighs 12,650 kilograms (kg), or 12.65 tons. On Mercury, where gravity is 0.378 G, the same bus weighs 12.65 tons times 0.378. In Python, to multiply two values, the symbol * is used.\n",
    "\n",
    "In the example below, you can find out the weight of a double-decker bus on different planets by getting the value from the list:"
   ],
   "metadata": {
    "collapsed": false
   }
  },
  {
   "cell_type": "code",
   "execution_count": 3,
   "outputs": [
    {
     "name": "stdout",
     "output_type": "stream",
     "text": [
      "On Earth, a double-decker bus weight 12650 kg\n",
      "On Earth, a double-decker bus weighs 12650 kg\n",
      "On Mercury, a double-decker bus weighs 4781.7 kg\n"
     ]
    }
   ],
   "source": [
    "bus_weight = 12650 # in kolograms, on Earth\n",
    "\n",
    "print(\"On Earth, a double-decker bus weight\", bus_weight, \"kg\")\n",
    "\n",
    "bus_weight = 12650 # in kilograms, on Earth\n",
    "\n",
    "print(\"On Earth, a double-decker bus weighs\", bus_weight, \"kg\")\n",
    "print(\"On Mercury, a double-decker bus weighs\", bus_weight * gravity_planets[0], \"kg\")\n",
    "\n"
   ],
   "metadata": {
    "collapsed": false
   }
  },
  {
   "cell_type": "markdown",
   "source": [
    "# Using min() and max() with lists\n",
    "\n",
    "Python has built-in functions to calculate the largest and smallest numbers in a list. The max() function returns the largest number and min() returns the smallest. Therefore, min(gravity_on_planets) returns the smallest number in the gravity_on_planets list, which is 0.377 (Mars).The following code calculates the minimum and maximum weights in the solar system using those functions:"
   ],
   "metadata": {
    "collapsed": false
   }
  },
  {
   "cell_type": "code",
   "execution_count": 5,
   "outputs": [
    {
     "name": "stdout",
     "output_type": "stream",
     "text": [
      "On Earth, a double-decker bus weighs 12650 kg\n",
      "The lightest a bus would be in the solar system is 4769.05 kg\n",
      "The heaviest a bus would be in the solar system is 14168.000000000002 kg\n"
     ]
    }
   ],
   "source": [
    "bus_weight = 12650 # in kilograms, on Earth\n",
    "\n",
    "print(\"On Earth, a double-decker bus weighs\", bus_weight, \"kg\")\n",
    "\n",
    "print(\"The lightest a bus would be in the solar system is\", bus_weight * min(gravity_planets), \"kg\")\n",
    "\n",
    "print(\"The heaviest a bus would be in the solar system is\", bus_weight * max(gravity_planets), \"kg\")\n"
   ],
   "metadata": {
    "collapsed": false
   }
  },
  {
   "cell_type": "code",
   "execution_count": null,
   "outputs": [],
   "source": [],
   "metadata": {
    "collapsed": false
   }
  }
 ],
 "metadata": {
  "kernelspec": {
   "display_name": "Python 3",
   "language": "python",
   "name": "python3"
  },
  "language_info": {
   "codemirror_mode": {
    "name": "ipython",
    "version": 2
   },
   "file_extension": ".py",
   "mimetype": "text/x-python",
   "name": "python",
   "nbconvert_exporter": "python",
   "pygments_lexer": "ipython2",
   "version": "2.7.6"
  }
 },
 "nbformat": 4,
 "nbformat_minor": 0
}
