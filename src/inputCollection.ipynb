{
 "cells": [
  {
   "cell_type": "markdown",
   "source": [
    "# input collection\n",
    "## Recopilacion de entradas\n",
    "### So far, you have learned several constructs of the Python programming language. He has also written a couple of programs. However, programs work with data, and the data comes from somewhere. In this unit, you'll take a closer look at how you can collect input from both the command line and user input.\n",
    "\n",
    "### Hasta ahora, ha aprendido varias construcciones del lenguaje de programación Python. También ha escrito un par de programas. Sin embargo, los programas funcionan con datos, y los datos proceden de algún lugar. En esta unidad, echará un vistazo más de cerca a cómo puede recopilar entradas tanto a partir de la línea de comandos como a partir de la entrada del usuario."
   ],
   "metadata": {
    "collapsed": false
   }
  },
  {
   "cell_type": "markdown",
   "source": [
    "# command line input\n",
    "## When you start a program using python3, it is assigned the name of the file to start. You can also give it a set of arguments: data that the program will have access to when it runs. This is what it might look like:\n",
    "## Entrada de la línea de comandos\n",
    "## Al iniciar un programa mediante python3, se le asigna el nombre del archivo que se va a iniciar. También puede asignarle un conjunto de argumentos: datos a los que el programa tendrá acceso al ejecutarse. Este es el aspecto que puede tener:"
   ],
   "metadata": {
    "collapsed": false
   }
  },
  {
   "cell_type": "markdown",
   "source": [
    "# python3 backup.py 2023-01-01\n",
    "## En el código anterior, la cadena \"2023-01-01\" se puede usar como instrucción para que el programa backup.py inicie una copia de seguridad a partir de esa fecha. Lo que se consigue mediante el uso de argumentos de la línea de comandos es flexibilidad. El programa puede comportarse de forma diferente en función de su entrada externa.\n",
    "\n",
    "### In the code above, the string \"2023-01-01\" can be used as an instruction for the backup.py program to start a backup from that date. What is achieved by using command line arguments is flexibility. The program may behave differently depending on your external input."
   ],
   "metadata": {
    "collapsed": false
   }
  },
  {
   "cell_type": "markdown",
   "source": [
    "# Command line arguments"
   ],
   "metadata": {
    "collapsed": false
   }
  },
  {
   "cell_type": "markdown",
   "source": [
    "### How are these commands captured from a coding perspective? Using the sys module, you can retrieve command line arguments and use them in your program. Notice the following code:"
   ],
   "metadata": {
    "collapsed": false
   }
  },
  {
   "cell_type": "markdown",
   "source": [
    "### ¿Cómo se capturan estos comandos desde la perspectiva de la codificación? Mediante el módulo sys, puede recuperar los argumentos de la línea de comandos y usarlos en el programa. Observe el código siguiente:"
   ],
   "metadata": {
    "collapsed": false
   }
  },
  {
   "cell_type": "code",
   "execution_count": 15,
   "outputs": [],
   "source": [
    "import sys"
   ],
   "metadata": {
    "collapsed": false
   }
  },
  {
   "cell_type": "code",
   "execution_count": 11,
   "outputs": [
    {
     "name": "stdout",
     "output_type": "stream",
     "text": [
      "['C:\\\\Users\\\\ce\\\\PycharmProjects\\\\lunarProject\\\\venv\\\\Lib\\\\site-packages\\\\ipykernel_launcher.py', '-f', 'C:\\\\Users\\\\ce\\\\AppData\\\\Roaming\\\\jupyter\\\\runtime\\\\kernel-148de67f-0682-4ff7-9143-0ebf45757861.json']\n"
     ]
    }
   ],
   "source": [
    "print(sys.argv)"
   ],
   "metadata": {
    "collapsed": false
   }
  },
  {
   "cell_type": "code",
   "execution_count": 12,
   "outputs": [
    {
     "name": "stdout",
     "output_type": "stream",
     "text": [
      "C:\\Users\\ce\\PycharmProjects\\lunarProject\\venv\\Lib\\site-packages\\ipykernel_launcher.py\n"
     ]
    }
   ],
   "source": [
    "print(sys.argv[0]) #Program name"
   ],
   "metadata": {
    "collapsed": false
   }
  },
  {
   "cell_type": "code",
   "execution_count": 13,
   "outputs": [
    {
     "name": "stdout",
     "output_type": "stream",
     "text": [
      "-f\n"
     ]
    }
   ],
   "source": [
    "print(sys.argv[1]) #firt arg"
   ],
   "metadata": {
    "collapsed": false
   }
  },
  {
   "cell_type": "markdown",
   "source": [
    "# sys.argv es una matriz o estructura de datos que contiene muchos elementos. La primera posición, que se indica como 0 en la matriz, contiene el nombre del programa. La segunda posición, 1, contiene el primer argumento. Supongamos que el programa backup.py contiene el código de ejemplo y lo ejecuta de la siguiente manera:\n",
    "\n",
    "## sys.argv is an array or data structure that contains many elements. The first position, indicated as 0 in the array, contains the name of the program. The second position, 1, contains the first argument. Suppose the backup.py program contains the sample code and runs it as follows:"
   ],
   "metadata": {
    "collapsed": false
   }
  },
  {
   "cell_type": "markdown",
   "source": [
    "# user input\n",
    "\n",
    "## Another way to pass data to the program is to have the user type the data. You can code it so that the program prompts the user to type information. Save the specified data in the program, and then work with it.\n",
    "\n",
    "## To capture user information, use the input() function. This is an example:"
   ],
   "metadata": {
    "collapsed": false
   }
  },
  {
   "cell_type": "markdown",
   "source": [
    "\"\"\"\n",
    "Entrada de usuario\n",
    "\n",
    "Otra manera de pasar datos al programa es hacer que el usuario escriba los datos. Puede codificarlo para que el programa indique al usuario que escriba información. Guarde los datos especificados en el programa y, a continuación, trabaje con ellos.\n",
    "\n",
    "Para capturar información del usuario, use la función input(). Este es un ejemplo:\n",
    "\n",
    "\"\"\""
   ],
   "metadata": {
    "collapsed": false
   }
  },
  {
   "cell_type": "code",
   "execution_count": 19,
   "outputs": [
    {
     "name": "stdout",
     "output_type": "stream",
     "text": [
      "welcome to the greeter program\n",
      "Greetings carlos\n"
     ]
    }
   ],
   "source": [
    "print(\"welcome to the greeter program\")\n",
    "name = input(\"Enter yout name:\")\n",
    "print(\"Greetings \" + name)"
   ],
   "metadata": {
    "collapsed": false
   }
  },
  {
   "cell_type": "markdown",
   "source": [
    "\"\"\"\n",
    "Supongamos que el programa input.py contiene el mismo código y lo ejecuta de la siguiente manera:\n",
    "\n",
    "Suppose the input.py program contains the same code and executes it as follows:\n",
    "\n",
    "\"\"\""
   ],
   "metadata": {
    "collapsed": false
   }
  },
  {
   "cell_type": "markdown",
   "source": [
    "# Trabajo con números\n",
    "# work with numbers"
   ],
   "metadata": {
    "collapsed": false
   }
  },
  {
   "cell_type": "markdown",
   "source": [
    "\"\"\"\n",
    "The input() function stores a result as a string, so the following code may not do what you want:\n",
    "\n",
    "La función input() almacena un resultado como una cadena, por lo que es posible que el código siguiente no haga lo que quiera:\n",
    "\"\"\""
   ],
   "metadata": {
    "collapsed": false
   }
  },
  {
   "cell_type": "code",
   "execution_count": 27,
   "outputs": [
    {
     "name": "stdout",
     "output_type": "stream",
     "text": [
      "calculator program\n",
      "45\n"
     ]
    }
   ],
   "source": [
    "print(\"calculator program\")\n",
    "first_number = input(\"fist number: \")\n",
    "second_number = input(\"second number: \")\n",
    "print(first_number + second_number)"
   ],
   "metadata": {
    "collapsed": false
   }
  },
  {
   "cell_type": "markdown",
   "source": [
    "\"\"\"\n",
    "The explanation is that first_number and second_number are strings. For the calculation to work correctly, you need to change those strings to numbers using the int() function. By modifying the last line of the program to use int(), you can solve the problem:\n",
    "\n",
    "La explicación es que first_number y second_number son cadenas. Para que el cálculo funcione correctamente, debe cambiar esas cadenas a números mediante la función int(). Al modificar la última línea del programa para usar int(), puede resolver el problema:\n",
    "\"\"\""
   ],
   "metadata": {
    "collapsed": false
   }
  },
  {
   "cell_type": "code",
   "execution_count": 29,
   "outputs": [
    {
     "name": "stdout",
     "output_type": "stream",
     "text": [
      "9\n"
     ]
    }
   ],
   "source": [
    "print(int(first_number) + int(second_number))"
   ],
   "metadata": {
    "collapsed": false
   }
  },
  {
   "cell_type": "code",
   "execution_count": null,
   "outputs": [],
   "source": [],
   "metadata": {
    "collapsed": false
   }
  }
 ],
 "metadata": {
  "kernelspec": {
   "display_name": "Python 3",
   "language": "python",
   "name": "python3"
  },
  "language_info": {
   "codemirror_mode": {
    "name": "ipython",
    "version": 2
   },
   "file_extension": ".py",
   "mimetype": "text/x-python",
   "name": "python",
   "nbconvert_exporter": "python",
   "pygments_lexer": "ipython2",
   "version": "2.7.6"
  }
 },
 "nbformat": 4,
 "nbformat_minor": 0
}
