{
 "cells": [
  {
   "cell_type": "markdown",
   "source": [
    "\"\"\"\n",
    "Creating reusable applications\n",
    "Having a program with hard-coded values limits its flexibility. Your first officer likes the program you built to convert parsecs to lightyears, but wants the ability to specify a value for parsecs. She wants you to create a program which can accept user input.\n",
    "\n",
    "This exercise is broken into a series of steps. For each step you will be presented with the goal for the step, followed by an empty cell. Enter your Python into the cell and run it. The solution for each step will follow each cell.\n",
    "\"\"\""
   ],
   "metadata": {
    "collapsed": false
   }
  },
  {
   "cell_type": "markdown",
   "source": [
    "\"\"\"\n",
    "Accepting user input\n",
    "In the prior exercise you created code to convert parsecs to lightyears and display the results, which looked like the following:\n",
    "\"\"\""
   ],
   "metadata": {
    "collapsed": false
   }
  },
  {
   "cell_type": "code",
   "execution_count": 4,
   "outputs": [
    {
     "name": "stdout",
     "output_type": "stream",
     "text": [
      "11 parsecs is: 35.86 lightyears\n"
     ]
    }
   ],
   "source": [
    "parsecs = 11\n",
    "lightyears = parsecs * 3.26\n",
    "print(str(parsecs) + \" parsecs is: \" +str(lightyears) + \" lightyears\" )"
   ],
   "metadata": {
    "collapsed": false
   }
  },
  {
   "cell_type": "code",
   "execution_count": 12,
   "outputs": [
    {
     "name": "stdout",
     "output_type": "stream",
     "text": [
      "10 parsecs is: 32.599999999999994 lightyears\n"
     ]
    }
   ],
   "source": [
    "parsecs_input = input(\"Input number of parsecs: \")\n",
    "parsecs2 = int(parsecs_input)\n",
    "lightyears2 = parsecs2 * 3.26\n",
    "print(parsecs_input + \" parsecs is: \" + str(lightyears2) + \" lightyears\")\n"
   ],
   "metadata": {
    "collapsed": false
   }
  },
  {
   "cell_type": "markdown",
   "source": [
    "\"\"\"\n",
    "Resumen\n",
    "Completado\n",
    "100 XP\n",
    "1 minuto\n",
    "En este módulo, se ha familiarizado con los conceptos para crear un programa en Python.\n",
    "\n",
    "Se ha presentado una introducción sobre la función print(), que le permite mostrar la salida en la consola. A continuación, ha visto las variables y cómo usarlas para almacenar los valores que desea usar más adelante en el código. Ha aprendido que una variable debe tener un tipo. También descubrió varios tipos en Python que permiten almacenar cadenas, números y valores booleanos.\n",
    "\n",
    "Asimismo, ha visto los operadores que se usan en las operaciones aritméticas y para asignar valores a los operadores.\n",
    "\"\"\""
   ],
   "metadata": {
    "collapsed": false
   }
  },
  {
   "cell_type": "code",
   "execution_count": null,
   "outputs": [],
   "source": [],
   "metadata": {
    "collapsed": false
   }
  }
 ],
 "metadata": {
  "kernelspec": {
   "display_name": "Python 3",
   "language": "python",
   "name": "python3"
  },
  "language_info": {
   "codemirror_mode": {
    "name": "ipython",
    "version": 2
   },
   "file_extension": ".py",
   "mimetype": "text/x-python",
   "name": "python",
   "nbconvert_exporter": "python",
   "pygments_lexer": "ipython2",
   "version": "2.7.6"
  }
 },
 "nbformat": 4,
 "nbformat_minor": 0
}
