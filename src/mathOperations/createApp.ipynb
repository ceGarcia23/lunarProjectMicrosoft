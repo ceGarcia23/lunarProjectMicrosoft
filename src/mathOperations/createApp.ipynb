{
 "cells": [
  {
   "cell_type": "markdown",
   "source": [
    "# Create an application to work with numbers and user input"
   ],
   "metadata": {
    "collapsed": false
   }
  },
  {
   "cell_type": "markdown",
   "source": [
    "You'll frequently need to convert string values into numbers to properly perform different operations, or determine the absolute value of a number. In this exercise, you will create a project to calculate the distance between two planets based on user input.\n",
    "\n",
    "This exercise is broken into a series of steps. For each step you will be presented with the goal for the step, followed by an empty cell. Enter your Python into the cell and run it. The solution for each step will follow each cell."
   ],
   "metadata": {
    "collapsed": false
   }
  },
  {
   "cell_type": "markdown",
   "source": [
    "# Read the values from the user"
   ],
   "metadata": {
    "collapsed": false
   }
  },
  {
   "cell_type": "markdown",
   "source": [
    "To create our application, we want to read the distance from the sun for two planets, and then display the distance between the planets. We'll do this by using input to read the values, int to convert to integer, and then abs to convert the result into its absolute value.\n",
    "\n",
    "Start by adding the code to prompt the user for the distance between the sun and the first planet, and then the second. Store each result in variables named first_planet_input and second_planet_input."
   ],
   "metadata": {
    "collapsed": false
   }
  },
  {
   "cell_type": "code",
   "execution_count": 9,
   "outputs": [
    {
     "ename": "ValueError",
     "evalue": "invalid literal for int() with base 10: ''",
     "output_type": "error",
     "traceback": [
      "\u001B[1;31m---------------------------------------------------------------------------\u001B[0m",
      "\u001B[1;31mValueError\u001B[0m                                Traceback (most recent call last)",
      "Cell \u001B[1;32mIn[9], line 5\u001B[0m\n\u001B[0;32m      2\u001B[0m second_planet_input \u001B[38;5;241m=\u001B[39m \u001B[38;5;28minput\u001B[39m(\u001B[38;5;124m\"\u001B[39m\u001B[38;5;124mEnter the distance from the sun for the second planet in KM\u001B[39m\u001B[38;5;124m\"\u001B[39m)\n\u001B[0;32m      4\u001B[0m \u001B[38;5;66;03m# Convert to number\u001B[39;00m\n\u001B[1;32m----> 5\u001B[0m first_planet \u001B[38;5;241m=\u001B[39m \u001B[38;5;28;43mint\u001B[39;49m\u001B[43m(\u001B[49m\u001B[43mfirst_planet_input\u001B[49m\u001B[43m)\u001B[49m\n\u001B[0;32m      6\u001B[0m second_planet \u001B[38;5;241m=\u001B[39m \u001B[38;5;28mint\u001B[39m(second_planet_input)\n\u001B[0;32m      8\u001B[0m \u001B[38;5;66;03m# Perform the calculation and convert to absolute value\u001B[39;00m\n",
      "\u001B[1;31mValueError\u001B[0m: invalid literal for int() with base 10: ''"
     ]
    }
   ],
   "source": [
    "first_planet_input = input(\"Enter the distance from the sun for the fist planet in KM\")\n",
    "second_planet_input = input(\"Enter the distance from the sun for the second planet in KM\")\n",
    "\n",
    "# Convert to number\n",
    "first_planet = int(first_planet_input)\n",
    "second_planet = int(second_planet_input)\n",
    "\n",
    "# Perform the calculation and convert to absolute value\n",
    "distancia_km = first_planet - second_planet\n",
    "print(abs(distancia_km))"
   ],
   "metadata": {
    "collapsed": false
   }
  },
  {
   "cell_type": "markdown",
   "source": [],
   "metadata": {
    "collapsed": false
   }
  },
  {
   "cell_type": "markdown",
   "source": [
    "Because input returns string values, we need to convert them to numbers. Add the code to convert each input into an integer using int. Store the values in first_planet and second_planet respectively."
   ],
   "metadata": {
    "collapsed": false
   }
  },
  {
   "cell_type": "markdown",
   "source": [
    "# Perform the calculation and convert to absolute value"
   ],
   "metadata": {
    "collapsed": false
   }
  },
  {
   "cell_type": "markdown",
   "source": [
    "With your values stored as numbers, you can now add the code to perform the calculation, subtracting the first planet from the second.\n",
    "\n",
    "Because the second planet might be a greater number, you'll use abs to convert it to an absolute value.\n",
    "\n",
    "Subtract first_planet from second_planet and convert the result to its absolute value by using abs. Store the result in a variable named distance_km. Then display the result on the screen."
   ],
   "metadata": {
    "collapsed": false
   }
  },
  {
   "cell_type": "markdown",
   "source": [
    "# Test your application\n",
    "\n",
    "To test your project, run the notebook. You'll be prompted in a dialog to provide the distances. You can use the ones from the following table:"
   ],
   "metadata": {
    "collapsed": false
   }
  },
  {
   "cell_type": "markdown",
   "source": [
    "\n",
    "Planet----------------Distance from sun\n",
    "Mercury---------------57900000\n",
    "Venus-----------------108200000\n",
    "Earth-----------------149600000\n",
    "Mars------------------227900000\n",
    "Jupiter---------------778600000\n",
    "Saturn----------------1433500000\n",
    "Uranus----------------2872500000\n",
    "Neptune---------------4495100000\n"
   ],
   "metadata": {
    "collapsed": false
   }
  },
  {
   "cell_type": "code",
   "execution_count": null,
   "outputs": [],
   "source": [],
   "metadata": {
    "collapsed": false
   }
  }
 ],
 "metadata": {
  "kernelspec": {
   "display_name": "Python 3",
   "language": "python",
   "name": "python3"
  },
  "language_info": {
   "codemirror_mode": {
    "name": "ipython",
    "version": 2
   },
   "file_extension": ".py",
   "mimetype": "text/x-python",
   "name": "python",
   "nbconvert_exporter": "python",
   "pygments_lexer": "ipython2",
   "version": "2.7.6"
  }
 },
 "nbformat": 4,
 "nbformat_minor": 0
}
