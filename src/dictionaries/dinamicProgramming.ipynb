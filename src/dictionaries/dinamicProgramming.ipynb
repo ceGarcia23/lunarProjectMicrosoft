{
 "cells": [
  {
   "cell_type": "markdown",
   "source": [
    "# Dynamic programming with dictionaries"
   ],
   "metadata": {
    "collapsed": false
   },
   "execution_count": 1
  },
  {
   "cell_type": "markdown",
   "source": [
    "In the program, you want to perform various calculations, such as the total number of moons.\n",
    "\n",
    "Also, as you progress into more advanced programming, you may find yourself loading this type of information from files or a database, rather than programming directly in Python.\n",
    "\n",
    "To help support these scenarios, Python allows you to treat the keys and values inside a dictionary as a list. You can dynamically determine keys and values, and perform various calculations.Imagine a dictionary in which monthly amounts of precipitation are stored. You probably have keys for each month and the associated rainfall.\n",
    "\n",
    "You want to add up the total rainfall and writing the code to perform the operation using each individual key would be quite tedious."
   ],
   "metadata": {
    "collapsed": false
   }
  },
  {
   "cell_type": "markdown",
   "source": [
    "# Retrieve all keys and values"
   ],
   "metadata": {
    "collapsed": false
   }
  },
  {
   "cell_type": "markdown",
   "source": [
    "The keys() method returns a list object containing all the keys.\n",
    "\n",
    "You can use this method to iterate through all the items in the dictionary.\n",
    "\n",
    "Imagine that you have the following dictionary, in which the last three months of rainfall are stored."
   ],
   "metadata": {
    "collapsed": false
   }
  },
  {
   "cell_type": "code",
   "execution_count": 4,
   "outputs": [
    {
     "name": "stdout",
     "output_type": "stream",
     "text": [
      "{'october': 3.5, 'november': 4.2, 'december': 2.1}\n"
     ]
    }
   ],
   "source": [
    "rainfall = {\n",
    "    'october': 3.5,\n",
    "    'november': 4.2,\n",
    "    'december': 2.1\n",
    "}\n",
    "\n",
    "print(rainfall)"
   ],
   "metadata": {
    "collapsed": false
   }
  },
  {
   "cell_type": "markdown",
   "source": [
    "Imagine that you want to display the list of all rainfall. You can write the name of each month, but it will be tedious."
   ],
   "metadata": {
    "collapsed": false
   }
  },
  {
   "cell_type": "code",
   "execution_count": 3,
   "outputs": [
    {
     "name": "stdout",
     "output_type": "stream",
     "text": [
      "october: 3.5 cm\n",
      "november: 4.2 cm\n",
      "december: 2.1 cm\n"
     ]
    }
   ],
   "source": [
    "for key in rainfall.keys():\n",
    "    print(f'{key}: {rainfall[key]} cm')"
   ],
   "metadata": {
    "collapsed": false
   }
  },
  {
   "cell_type": "markdown",
   "source": [
    "NoteYou can still use square brackets ([ ]) with a variable name, instead of the hard-coded string literal."
   ],
   "metadata": {
    "collapsed": false
   }
  },
  {
   "cell_type": "markdown",
   "source": [
    "# Determining the existence of a key in a dictionary"
   ],
   "metadata": {
    "collapsed": false
   }
  },
  {
   "cell_type": "markdown",
   "source": [
    "When updating a value in a dictionary, Python will overwrite the existing value or create one if the key does not exist.\n",
    "\n",
    "If you want to add to a value instead of overwriting it, you can check if the key exists using in . For example, if you want to add a value to Dec or create one if it doesn't exist, you could use the following:"
   ],
   "metadata": {
    "collapsed": false
   }
  },
  {
   "cell_type": "code",
   "execution_count": 6,
   "outputs": [],
   "source": [
    "if 'december' in rainfall:\n",
    "    rainfall['december'] = rainfall['december'] + 1\n",
    "else:\n",
    "    rainfall['december'] = 1\n",
    "\n",
    "# Because december exists, the value will be 3.1"
   ],
   "metadata": {
    "collapsed": false
   }
  },
  {
   "cell_type": "markdown",
   "source": [
    "# Retrieval of all values"
   ],
   "metadata": {
    "collapsed": false
   }
  },
  {
   "cell_type": "markdown",
   "source": [
    "Similar to keys(), values() returns the list of all values in a dictionary without their corresponding keys.\n",
    "\n",
    "values() can be useful when using the key for labeling purposes, as in the example above, where the keys are the name of the month.\n",
    "\n",
    "You can use values() to determine the total amount of rainfall:"
   ],
   "metadata": {
    "collapsed": false
   }
  },
  {
   "cell_type": "code",
   "execution_count": 8,
   "outputs": [
    {
     "name": "stdout",
     "output_type": "stream",
     "text": [
      " There was 10.8 cm in the las quarter\n"
     ]
    }
   ],
   "source": [
    "total_rainfall = 0\n",
    "for value in rainfall.values():\n",
    "    total_rainfall = total_rainfall + value\n",
    "\n",
    "print(f' There was {total_rainfall} cm in the las quarter')"
   ],
   "metadata": {
    "collapsed": false
   }
  },
  {
   "cell_type": "code",
   "execution_count": null,
   "outputs": [],
   "source": [],
   "metadata": {
    "collapsed": false
   }
  }
 ],
 "metadata": {
  "kernelspec": {
   "display_name": "Python 3",
   "language": "python",
   "name": "python3"
  },
  "language_info": {
   "codemirror_mode": {
    "name": "ipython",
    "version": 2
   },
   "file_extension": ".py",
   "mimetype": "text/x-python",
   "name": "python",
   "nbconvert_exporter": "python",
   "pygments_lexer": "ipython2",
   "version": "2.7.6"
  }
 },
 "nbformat": 4,
 "nbformat_minor": 0
}
