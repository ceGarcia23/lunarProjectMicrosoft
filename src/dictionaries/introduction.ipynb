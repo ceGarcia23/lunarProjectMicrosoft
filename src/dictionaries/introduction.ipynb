{
 "cells": [
  {
   "cell_type": "markdown",
   "source": [
    "# Introducción a los diccionarios de Python"
   ],
   "metadata": {
    "collapsed": false
   }
  },
  {
   "cell_type": "markdown",
   "source": [
    "Python variables can store various types of data. Earlier, you have learned that you can store strings and numbers:"
   ],
   "metadata": {
    "collapsed": false
   },
   "outputs": [
    {
     "ename": "SyntaxError",
     "evalue": "invalid syntax (1147222496.py, line 1)",
     "output_type": "error",
     "traceback": [
      "\u001B[1;36m  Cell \u001B[1;32mIn[1], line 1\u001B[1;36m\u001B[0m\n\u001B[1;33m    Las variables de Python pueden almacenar varios tipos de datos. Anteriormente, ha aprendido que puede almacenar cadenas y números:\u001B[0m\n\u001B[1;37m        ^\u001B[0m\n\u001B[1;31mSyntaxError\u001B[0m\u001B[1;31m:\u001B[0m invalid syntax\n"
     ]
    }
   ],
   "execution_count": 1
  },
  {
   "cell_type": "code",
   "execution_count": 3,
   "outputs": [],
   "source": [
    "name = 'Earth'\n",
    "moons = 1"
   ],
   "metadata": {
    "collapsed": false
   }
  },
  {
   "cell_type": "markdown",
   "source": [
    "Although this method works for smaller amounts of data, it can become increasingly complex when working with related data. Imagine that you want to store information about the moons of Earth and the Moon."
   ],
   "metadata": {
    "collapsed": false
   }
  },
  {
   "cell_type": "code",
   "execution_count": 5,
   "outputs": [],
   "source": [
    "earth_name = 'Earth'\n",
    "earth_moons = 1\n",
    "\n",
    "jupiter_name = 'Jupiter'\n",
    "jupiter_moons = 79"
   ],
   "metadata": {
    "collapsed": false
   }
  },
  {
   "cell_type": "markdown",
   "source": [
    "Notice how variables with different prefixes are duplicated. This duplication can be difficult to handle. Because you will often have to work with related data sets, such as the average rainfall over several months in different cities, storing these variables as individual values is not a viable option. Alternatively, you can use Python dictionaries.\n",
    "\n",
    "Python dictionaries allow you to work with related data sets. A dictionary is a collection of key-value pairs. Think of it like a group of variables inside a container, where the key is the name of the variable and the value is the value stored inside it."
   ],
   "metadata": {
    "collapsed": false
   }
  },
  {
   "cell_type": "markdown",
   "source": [
    "# Creating a dictionary"
   ],
   "metadata": {
    "collapsed": false
   }
  },
  {
   "cell_type": "markdown",
   "source": [
    "Python uses braces ({ }) and a colon (:) to indicate a dictionary. You can create an empty dictionary and add values later, or populate it at creation time. Each key or value is separated by a colon, and the name of each key is enclosed in quotes as a string literal. Since the key is a string literal, you can use whatever name is appropriate to describe the value.\n",
    "\n",
    "Now a dictionary will be created to store the name of planet Earth and the number of moons it has:"
   ],
   "metadata": {
    "collapsed": false
   }
  },
  {
   "cell_type": "code",
   "execution_count": 7,
   "outputs": [],
   "source": [
    "planet ={\n",
    "    'name': 'Earth',\n",
    "    'moons': 1\n",
    "}\n",
    "\n"
   ],
   "metadata": {
    "collapsed": false
   }
  },
  {
   "cell_type": "markdown",
   "source": [
    "It has two keys, 'name' and 'moons'. Each key behaves just like a variable: they have a unique name and store a value. But they are contained within a single, larger variable called planet.\n",
    "\n",
    "As with conventional variables, you must ensure that you use the correct data types. In the moons value of 1 in the example above, we didn't put quotes around the number, because we want to use an integer. If you had used '1', Python would see this variable as a string, which would affect the ability to perform calculations.'\n",
    "\n",
    "Unlike conventional variables, key names do not need to follow the standard naming rules for Python. You can use keyname to make it more descriptive in your code."
   ],
   "metadata": {
    "collapsed": false
   }
  },
  {
   "cell_type": "markdown",
   "source": [
    "# Read Dictionary Values"
   ],
   "metadata": {
    "collapsed": false
   }
  },
  {
   "cell_type": "markdown",
   "source": [
    "Puede leer valores dentro de un diccionario. Los objetos de diccionario tienen un método get que puede usar para acceder a un valor mediante su clave. Si quiere imprimir name, puede usar el código siguiente:"
   ],
   "metadata": {
    "collapsed": false
   }
  },
  {
   "cell_type": "code",
   "execution_count": 8,
   "outputs": [
    {
     "name": "stdout",
     "output_type": "stream",
     "text": [
      "Earth\n"
     ]
    }
   ],
   "source": [
    "print(planet.get('name'))\n",
    "\n",
    "#Displays Earth"
   ],
   "metadata": {
    "collapsed": false
   }
  },
  {
   "cell_type": "markdown",
   "source": [
    "As you might suspect, accessing the values of a dictionary is a common operation. Fortunately, there is a shortcut. You can also pass the key in square brackets ([ ]). This method uses less code than get, and most programmers use this syntax instead. You can rewrite the previous example by doing the following:"
   ],
   "metadata": {
    "collapsed": false
   }
  },
  {
   "cell_type": "code",
   "execution_count": 9,
   "outputs": [
    {
     "name": "stdout",
     "output_type": "stream",
     "text": [
      "Earth\n"
     ]
    }
   ],
   "source": [
    "# planet['name'] is identical to using planet.get('name)\n",
    "print(planet['name'])"
   ],
   "metadata": {
    "collapsed": false
   }
  },
  {
   "cell_type": "markdown",
   "source": [
    "Although the behavior of get and square brackets ([ ]) is usually the same for retrieving items, there is one main difference. If a key is not available, get returns None and [ ] raises a KeyError."
   ],
   "metadata": {
    "collapsed": false
   }
  },
  {
   "cell_type": "code",
   "execution_count": 13,
   "outputs": [
    {
     "name": "stdout",
     "output_type": "stream",
     "text": [
      "None\n"
     ]
    }
   ],
   "source": [
    "wibble = planet.get('wibble') # Returns None\n",
    "\n",
    "print(wibble)"
   ],
   "metadata": {
    "collapsed": false
   }
  },
  {
   "cell_type": "code",
   "execution_count": 14,
   "outputs": [
    {
     "ename": "KeyError",
     "evalue": "'wibble'",
     "output_type": "error",
     "traceback": [
      "\u001B[1;31m---------------------------------------------------------------------------\u001B[0m",
      "\u001B[1;31mKeyError\u001B[0m                                  Traceback (most recent call last)",
      "Cell \u001B[1;32mIn[14], line 1\u001B[0m\n\u001B[1;32m----> 1\u001B[0m wibble \u001B[38;5;241m=\u001B[39m \u001B[43mplanet\u001B[49m\u001B[43m[\u001B[49m\u001B[38;5;124;43m'\u001B[39;49m\u001B[38;5;124;43mwibble\u001B[39;49m\u001B[38;5;124;43m'\u001B[39;49m\u001B[43m]\u001B[49m \u001B[38;5;66;03m# Throws KeyError\u001B[39;00m\n",
      "\u001B[1;31mKeyError\u001B[0m: 'wibble'"
     ]
    }
   ],
   "source": [
    "wibble = planet['wibble'] # Throws KeyError"
   ],
   "metadata": {
    "collapsed": false
   }
  },
  {
   "cell_type": "markdown",
   "source": [
    "# Modifying Dictionary Values"
   ],
   "metadata": {
    "collapsed": false
   }
  },
  {
   "cell_type": "markdown",
   "source": [
    "You can also modify values inside a dictionary object, with the update method. This method accepts a dictionary as a parameter and updates the existing values with the new ones you supply. If you want to change name for the planet dictionary, you can use the following, for example:"
   ],
   "metadata": {
    "collapsed": false
   }
  },
  {
   "cell_type": "code",
   "execution_count": 16,
   "outputs": [
    {
     "name": "stdout",
     "output_type": "stream",
     "text": [
      "{'name': 'Makemake', 'moons': 1}\n"
     ]
    }
   ],
   "source": [
    "planet.update({'name': 'Makemake'})\n",
    "\n",
    "# name is now set to Makemake\n",
    "print(planet)"
   ],
   "metadata": {
    "collapsed": false
   }
  },
  {
   "cell_type": "markdown",
   "source": [
    "Just like the brackets ([ ]) shortcut is used to read values, it can be used to modify values. The main difference in syntax is that = (sometimes called the assignment operator) is used to provide a new value. To rewrite the previous example and change the name, you can use the following:\n",
    "\n",
    "In the following example, the same modifications are made to the planet variable and the name and moons are updated. Note that using update makes a single call to the function, while using square brackets makes two calls."
   ],
   "metadata": {
    "collapsed": false
   }
  },
  {
   "cell_type": "code",
   "execution_count": 18,
   "outputs": [
    {
     "name": "stdout",
     "output_type": "stream",
     "text": [
      "{'name': 'Jupiter', 'moons': 79}\n"
     ]
    }
   ],
   "source": [
    "# Using update\n",
    "planet .update(\n",
    "    {\n",
    "        'name': 'Jupiter',\n",
    "        'moons': 79\n",
    "    }\n",
    ")\n",
    "print(planet)"
   ],
   "metadata": {
    "collapsed": false
   }
  },
  {
   "cell_type": "code",
   "execution_count": 20,
   "outputs": [
    {
     "name": "stdout",
     "output_type": "stream",
     "text": [
      "{'name': 'Jupiter', 'moons': 79}\n"
     ]
    }
   ],
   "source": [
    "# Using square brackets\n",
    "planet ['name'] = 'Jupiter'\n",
    "planet ['moons'] = 79\n",
    "\n",
    "print(planet)"
   ],
   "metadata": {
    "collapsed": false
   }
  },
  {
   "cell_type": "markdown",
   "source": [
    "# Adding and removing keys\n",
    "\n",
    "It is not necessary to create all the keys when initializing a dictionary. In fact, you don't need to create any. Whenever you want to create a key, assign it as you would an existing one.\n",
    "\n",
    "Imagine that you want to update planet to include the orbital period in days:"
   ],
   "metadata": {
    "collapsed": false
   }
  },
  {
   "cell_type": "code",
   "execution_count": 24,
   "outputs": [],
   "source": [
    "planet['orbital period'] = 4333\n",
    "\n",
    "# planet dictionary now contains: {\n",
    "#   name: 'jupiter'\n",
    "#   moons: 79\n",
    "#   orbital period: 4333\n",
    "# }"
   ],
   "metadata": {
    "collapsed": false
   }
  },
  {
   "cell_type": "markdown",
   "source": [
    "Important\n",
    "\n",
    "Key names, like everything else in Python, are case sensitive. As a result, 'name' and 'Name' are considered two separate keys in a Python dictionary."
   ],
   "metadata": {
    "collapsed": false
   }
  },
  {
   "cell_type": "markdown",
   "source": [
    "To remove a key, use pop. pop returns the value and removes the key from the dictionary. To remove orbital period, you can use the following code:"
   ],
   "metadata": {
    "collapsed": false
   }
  },
  {
   "cell_type": "code",
   "execution_count": 23,
   "outputs": [
    {
     "data": {
      "text/plain": "4333"
     },
     "execution_count": 23,
     "metadata": {},
     "output_type": "execute_result"
    }
   ],
   "source": [
    "planet.pop('orbital period')\n",
    "\n",
    "# planet dictionary now contains: {\n",
    "#   name: 'jupiter'\n",
    "#   moons: 79\n",
    "# }"
   ],
   "metadata": {
    "collapsed": false
   }
  },
  {
   "cell_type": "markdown",
   "source": [
    "# complex data types\n",
    "\n",
    "Dictionaries can store any type of value, including other dictionaries. This allows you to model complex data as needed. Imagine that you have to store the diameter of the planet, which could be measured around its equator or the poles. You can create another dictionary inside planet to store this information:"
   ],
   "metadata": {
    "collapsed": false
   }
  },
  {
   "cell_type": "code",
   "execution_count": 25,
   "outputs": [],
   "source": [
    "# Add address\n",
    "planet['diameter (km)'] = {\n",
    "    'polar': 133709,\n",
    "    'equatorial': 142984\n",
    "}\n",
    "\n",
    "# planet dictionary now contains: {\n",
    "#   name: 'Jupiter'\n",
    "#   moons: 79\n",
    "#   diameter (km): {\n",
    "#      polar: 133709\n",
    "#      equatorial: 142984\n",
    "#   }\n",
    "# }"
   ],
   "metadata": {
    "collapsed": false
   }
  },
  {
   "cell_type": "markdown",
   "source": [
    "To retrieve values in a nested dictionary, you must chain brackets or get calls."
   ],
   "metadata": {
    "collapsed": false
   }
  },
  {
   "cell_type": "code",
   "execution_count": 26,
   "outputs": [
    {
     "name": "stdout",
     "output_type": "stream",
     "text": [
      "Jupiter polar diameter: 133709\n"
     ]
    }
   ],
   "source": [
    "print(f'{planet[\"name\"]} polar diameter: {planet[\"diameter (km)\"][\"polar\"]}')\n",
    "\n",
    "# Output: Jupiter polar diameter: 133709"
   ],
   "metadata": {
    "collapsed": false
   }
  },
  {
   "cell_type": "code",
   "execution_count": null,
   "outputs": [],
   "source": [],
   "metadata": {
    "collapsed": false
   }
  }
 ],
 "metadata": {
  "kernelspec": {
   "display_name": "Python 3",
   "language": "python",
   "name": "python3"
  },
  "language_info": {
   "codemirror_mode": {
    "name": "ipython",
    "version": 2
   },
   "file_extension": ".py",
   "mimetype": "text/x-python",
   "name": "python",
   "nbconvert_exporter": "python",
   "pygments_lexer": "ipython2",
   "version": "2.7.6"
  }
 },
 "nbformat": 4,
 "nbformat_minor": 0
}
