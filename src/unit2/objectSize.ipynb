{
 "cells": [
  {
   "cell_type": "markdown",
   "source": [
    "# Use logic to examine an object's size"
   ],
   "metadata": {
    "collapsed": false
   }
  },
  {
   "cell_type": "markdown",
   "source": [
    "\"\"\"\n",
    "You will start your project by creating the code to determine if a piece of space debris is of a dangerous size.\n",
    "\n",
    "For this exercise we will use an arbitrary size of 5 meters cubed (5m3); anything larger is a potentially dangerous object.\n",
    "\n",
    "For this step you will be presented with the goal for the exercise, followed by an empty cell.\n",
    "\n",
    "Enter your Python into the cell and run it. The solution is at the bottom of the exercise.  In the cell below, add a variable named object_size and set it to 10 to represent 10m3. Then add an if statement to test if object_size is greater than 5.\n",
    "\n",
    "If it is, display a message saying We need to keep an eye on this object. If it's less than 5, display a message saying Object poses no threat.\"\"\""
   ],
   "metadata": {
    "collapsed": false
   }
  },
  {
   "cell_type": "code",
   "execution_count": 2,
   "outputs": [
    {
     "name": "stdout",
     "output_type": "stream",
     "text": [
      "We neet to keep an eye on this object\n"
     ]
    }
   ],
   "source": [
    "object_size = 10\n",
    "if object_size > 5:\n",
    "    print(\"We neet to keep an eye on this object\")\n",
    "else:\n",
    "    print(\"Object poses no threat\")"
   ],
   "metadata": {
    "collapsed": false
   }
  },
  {
   "cell_type": "code",
   "execution_count": null,
   "outputs": [],
   "source": [],
   "metadata": {
    "collapsed": false
   }
  }
 ],
 "metadata": {
  "kernelspec": {
   "display_name": "Python 3",
   "language": "python",
   "name": "python3"
  },
  "language_info": {
   "codemirror_mode": {
    "name": "ipython",
    "version": 2
   },
   "file_extension": ".py",
   "mimetype": "text/x-python",
   "name": "python",
   "nbconvert_exporter": "python",
   "pygments_lexer": "ipython2",
   "version": "2.7.6"
  }
 },
 "nbformat": 4,
 "nbformat_minor": 0
}
