{
 "cells": [
  {
   "cell_type": "markdown",
   "source": [
    "# Using while loops in Python\n",
    "\n",
    "In Python, while loops let you run code an unknown number of times. The loops examine a Boolean condition and, as long as the condition is true, the code inside the loop will run. This is very useful for situations like prompting a user for values.\n",
    "\n",
    "In this exercise, you're creating an application that prompts a user to enter a list of planets. In a later exercise, you'll add code that displays the list. For now, though, you'll create only the code that prompts the user.\n",
    "\n",
    "This exercise is broken into a series of steps. For each step you will be presented with the goal for the step, followed by an empty cell. Enter your Python into the cell and run it. The solution for each step will follow each cell.\n",
    "\n",
    "Start by adding two variables, one for the input from the user, named new_planet, and another variable for the list of planets, named planets."
   ],
   "metadata": {
    "collapsed": false
   }
  },
  {
   "cell_type": "code",
   "execution_count": 2,
   "outputs": [
    {
     "name": "stdout",
     "output_type": "stream",
     "text": [
      "['Venus', 'marte', 'tierra', 'jupyter', 'mercury', 'jupyter']\n"
     ]
    }
   ],
   "source": [
    "new_planet = ''\n",
    "\n",
    "planets = []\n",
    "\n",
    "while new_planet.lower() != 'done':\n",
    "    if new_planet:\n",
    "        planets.append(new_planet)\n",
    "    new_planet = input('Enter a new planet, or done if  done')\n",
    "print(planets)\n",
    "\n"
   ],
   "metadata": {
    "collapsed": false
   }
  },
  {
   "cell_type": "code",
   "execution_count": null,
   "outputs": [],
   "source": [],
   "metadata": {
    "collapsed": false
   }
  }
 ],
 "metadata": {
  "kernelspec": {
   "display_name": "Python 3",
   "language": "python",
   "name": "python3"
  },
  "language_info": {
   "codemirror_mode": {
    "name": "ipython",
    "version": 2
   },
   "file_extension": ".py",
   "mimetype": "text/x-python",
   "name": "python",
   "nbconvert_exporter": "python",
   "pygments_lexer": "ipython2",
   "version": "2.7.6"
  }
 },
 "nbformat": 4,
 "nbformat_minor": 0
}
