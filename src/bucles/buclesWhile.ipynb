{
 "cells": [
  {
   "cell_type": "markdown",
   "source": [
    "# Introduction\n",
    "\n",
    "Computer programs are excellent for working with repetitive tasks. As a developer, you will often need to loop through sequences of values, such as strings, numbers, and objects. Python provides two mechanisms for performing these tasks: while and for loops.\n",
    "\n",
    "Scenario: Working with flow control in a planetarium application\n",
    "Imagine you are going to create an application in which users will type a list of planet names. After users type in the names, it will show them the results again. This scenario will require users to be prompted multiple times for values, and when they are done, the code will display all the data in the list. In this module, we'll explore how you can use while and for loops to create this application.\n",
    "\n",
    "By the end of the module, you will know how to use while and for loops.\n",
    "\n",
    "What will you learn?\n",
    "When you have completed this module, you will be able to:\n",
    "\n",
    "Identify when to use while and for loops.\n",
    "Execute a task multiple times using while loops.\n",
    "Loop through the data in the list using for loops.\n",
    "What is the main objective?\n",
    "In this module, you'll discover how to apply control flow to your application for repeating statements and working with list structures."
   ],
   "metadata": {
    "collapsed": false
   }
  },
  {
   "cell_type": "markdown",
   "source": [
    "# About \"while\" loops\n",
    "\n",
    "When writing code, a common challenge is that you perform a task an unknown number of times. In this unit, you want to allow a user to write a list of planet names. Unfortunately, you don't know how many names the user will type. To allow looping an unknown number of times, you can use a while loop.\n",
    "\n",
    "A while loop performs an operation while a given condition is True. You can use a while loop for the following:\n",
    "\n",
    "Find another line in a file.\n",
    "Check if any mark has been set.\n",
    "Check if a user has finished entering values.\n",
    "Check if anything else has changed to indicate that the code can stop performing the operation."
   ],
   "metadata": {
    "collapsed": false
   }
  },
  {
   "cell_type": "markdown",
   "source": [
    "Important\n",
    "The most important thing to remember when creating while loops is to make sure that the condition changes. If the condition is always True, Python will continue to execute the code until the program crashes."
   ],
   "metadata": {
    "collapsed": false
   }
  },
  {
   "cell_type": "markdown",
   "source": [
    "The syntax of a while loop is similar to that of an if statement.\n",
    "\n",
    "Provide a condition and the code that you want to execute while the condition is True.\n",
    "\n",
    "A while loop has three important parts:\n",
    "\n",
    "The while keyword, followed by a space.The condition to test.\n",
    "If the condition is True, the code inside the while loop will be executed.\n",
    "The code to be executed on each iteration, indented by whitespace. For example:"
   ],
   "metadata": {
    "collapsed": false
   }
  },
  {
   "cell_type": "markdown",
   "source": [
    "while condition:\n",
    "    #code here\n"
   ],
   "metadata": {
    "collapsed": false
   }
  },
  {
   "cell_type": "markdown",
   "source": [
    "Let's see how you can create code to prompt users to enter values, and then allow them to use done when they're done entering them. In our example, the user input is the condition that is checked at the beginning of the while loop."
   ],
   "metadata": {
    "collapsed": false
   }
  },
  {
   "cell_type": "code",
   "execution_count": 4,
   "outputs": [],
   "source": [
    "user_input = ''\n",
    "\n",
    "while user_input.lower() != 'done':\n",
    "    user_input = input('Enter a new value, or done when done')"
   ],
   "metadata": {
    "collapsed": false
   }
  },
  {
   "cell_type": "markdown",
   "source": [
    "Note that you use input to prompt users. Every time users write a new value, they change the condition, which means the while loop will exit once done has been written."
   ],
   "metadata": {
    "collapsed": false
   }
  },
  {
   "cell_type": "markdown",
   "source": [
    "NoteIn our example, we've used lower to convert the input to lowercase, allowing for a case-insensitive comparison."
   ],
   "metadata": {
    "collapsed": false
   }
  },
  {
   "cell_type": "markdown",
   "source": [
    "You can use the newly written string just like you would any other string captured with input. If you want to add it to a list, you can use code similar to the following example:"
   ],
   "metadata": {
    "collapsed": false
   }
  },
  {
   "cell_type": "code",
   "execution_count": 8,
   "outputs": [],
   "source": [
    "# create the variable for user input\n",
    "user_input: ''\n",
    "# Create the list to store the values\n",
    "inputs = []\n",
    "\n",
    "#The while loop\n",
    "while user_input.lower() != 'done':\n",
    "    # Check if there's value in user_input\n",
    "    if user_input:\n",
    "        # Store the value in the list\n",
    "        inputs.appens(user_input)\n",
    "    # Prompt for a new value\n",
    "    user_input = input('Enter a new value, or donde when done')"
   ],
   "metadata": {
    "collapsed": false
   }
  },
  {
   "cell_type": "markdown",
   "source": [
    "Notice the if statement inside the while loop. This statement tests if there is a string value inside user_input. If the while loop is executed for the first time, there is no value, so there is nothing to store in inputs. After it is executed for the first time, user_input always retains the value that the user has just entered. Since while is testing to make sure that the value is not equal to done (the word the user will type to exit the application), it knows that the current value is one that it can add to the list."
   ],
   "metadata": {
    "collapsed": false
   }
  },
  {
   "cell_type": "markdown",
   "source": [
    "Es posible que conozca bien otros lenguajes de programación que admiten un bucle do, lo que le permite realizar una prueba en la parte inferior del bucle. Python no proporciona un bucle do."
   ],
   "metadata": {
    "collapsed": false
   }
  },
  {
   "cell_type": "code",
   "execution_count": null,
   "outputs": [],
   "source": [],
   "metadata": {
    "collapsed": false
   }
  }
 ],
 "metadata": {
  "kernelspec": {
   "display_name": "Python 3",
   "language": "python",
   "name": "python3"
  },
  "language_info": {
   "codemirror_mode": {
    "name": "ipython",
    "version": 2
   },
   "file_extension": ".py",
   "mimetype": "text/x-python",
   "name": "python",
   "nbconvert_exporter": "python",
   "pygments_lexer": "ipython2",
   "version": "2.7.6"
  }
 },
 "nbformat": 4,
 "nbformat_minor": 0
}
